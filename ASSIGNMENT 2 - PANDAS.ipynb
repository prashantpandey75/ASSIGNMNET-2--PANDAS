{
 "cells": [
  {
   "cell_type": "code",
   "execution_count": null,
   "id": "590865ca",
   "metadata": {},
   "outputs": [],
   "source": [
    "#### AIGNMENT 2 PANDAS"
   ]
  },
  {
   "cell_type": "markdown",
   "id": "bc18e7a2",
   "metadata": {},
   "source": [
    "### "
   ]
  },
  {
   "cell_type": "code",
   "execution_count": null,
   "id": "b623871a",
   "metadata": {},
   "outputs": [],
   "source": [
    "import pandas as pd\n"
   ]
  },
  {
   "cell_type": "code",
   "execution_count": 2,
   "id": "8cd2b907",
   "metadata": {},
   "outputs": [
    {
     "data": {
      "text/html": [
       "<div>\n",
       "<style scoped>\n",
       "    .dataframe tbody tr th:only-of-type {\n",
       "        vertical-align: middle;\n",
       "    }\n",
       "\n",
       "    .dataframe tbody tr th {\n",
       "        vertical-align: top;\n",
       "    }\n",
       "\n",
       "    .dataframe thead th {\n",
       "        text-align: right;\n",
       "    }\n",
       "</style>\n",
       "<table border=\"1\" class=\"dataframe\">\n",
       "  <thead>\n",
       "    <tr style=\"text-align: right;\">\n",
       "      <th></th>\n",
       "      <th>user_id|age|gender|occupation|zip_code</th>\n",
       "    </tr>\n",
       "  </thead>\n",
       "  <tbody>\n",
       "    <tr>\n",
       "      <th>0</th>\n",
       "      <td>1|24|M|technician|85711</td>\n",
       "    </tr>\n",
       "    <tr>\n",
       "      <th>1</th>\n",
       "      <td>2|53|F|other|94043</td>\n",
       "    </tr>\n",
       "    <tr>\n",
       "      <th>2</th>\n",
       "      <td>3|23|M|writer|32067</td>\n",
       "    </tr>\n",
       "    <tr>\n",
       "      <th>3</th>\n",
       "      <td>4|24|M|technician|43537</td>\n",
       "    </tr>\n",
       "    <tr>\n",
       "      <th>4</th>\n",
       "      <td>5|33|F|other|15213</td>\n",
       "    </tr>\n",
       "  </tbody>\n",
       "</table>\n",
       "</div>"
      ],
      "text/plain": [
       "  user_id|age|gender|occupation|zip_code\n",
       "0                1|24|M|technician|85711\n",
       "1                     2|53|F|other|94043\n",
       "2                    3|23|M|writer|32067\n",
       "3                4|24|M|technician|43537\n",
       "4                     5|33|F|other|15213"
      ]
     },
     "execution_count": 2,
     "metadata": {},
     "output_type": "execute_result"
    }
   ],
   "source": [
    "url = 'https://raw.githubusercontent.com/justmarkham/DAT8/master/data/u.user'\n",
    "df = pd.read_csv(url)\n",
    "df.head()"
   ]
  },
  {
   "cell_type": "code",
   "execution_count": 7,
   "id": "3f23bc1d",
   "metadata": {},
   "outputs": [],
   "source": [
    "#### QUESTION 1 - Assign it to a variable called users and use the 'user_id' as index\n",
    "\n",
    "df = pd.read_csv(url, sep=\"|\", index_col=\"user_id\")"
   ]
  },
  {
   "cell_type": "code",
   "execution_count": 13,
   "id": "a18e81a0",
   "metadata": {},
   "outputs": [
    {
     "name": "stdout",
     "output_type": "stream",
     "text": [
      "*****First 10 Entries*****\n",
      "         age gender     occupation zip_code\n",
      "user_id                                    \n",
      "1         24      M     technician    85711\n",
      "2         53      F          other    94043\n",
      "3         23      M         writer    32067\n",
      "4         24      M     technician    43537\n",
      "5         33      F          other    15213\n",
      "6         42      M      executive    98101\n",
      "7         57      M  administrator    91344\n",
      "8         36      M  administrator    05201\n",
      "9         29      M        student    01002\n",
      "10        53      M         lawyer    90703\n",
      "\n",
      "\n",
      "\n",
      "*****Last 10 Entries*****\n",
      "         age gender     occupation zip_code\n",
      "user_id                                    \n",
      "934       61      M       engineer    22902\n",
      "935       42      M         doctor    66221\n",
      "936       24      M          other    32789\n",
      "937       48      M       educator    98072\n",
      "938       38      F     technician    55038\n",
      "939       26      F        student    33319\n",
      "940       32      M  administrator    02215\n",
      "941       20      M        student    97229\n",
      "942       48      F      librarian    78209\n",
      "943       22      M        student    77841\n"
     ]
    }
   ],
   "source": [
    "#### QUESTION 2 - See the first 10 and last 10 entries\n",
    "\n",
    "print('*****First 10 Entries*****')\n",
    "print(df.head(10))\n",
    "print('\\n\\n')\n",
    "print('*****Last 10 Entries*****')\n",
    "print(df.tail(10))"
   ]
  },
  {
   "cell_type": "code",
   "execution_count": 17,
   "id": "b160a537",
   "metadata": {},
   "outputs": [
    {
     "name": "stdout",
     "output_type": "stream",
     "text": [
      "The Number of Observation is :  943\n"
     ]
    }
   ],
   "source": [
    "#### QUESTION 3 - What is the number of observations in the dataset?\n",
    "\n",
    "print('The Number of Observation is : ',df.shape[0])"
   ]
  },
  {
   "cell_type": "code",
   "execution_count": 18,
   "id": "bf276f13",
   "metadata": {},
   "outputs": [
    {
     "name": "stdout",
     "output_type": "stream",
     "text": [
      "Number of Columns :  4\n"
     ]
    }
   ],
   "source": [
    "#### QUESTION 4 - What is the number of columns in the dataset?\n",
    "\n",
    "print('Number of Columns : ',df.shape[1])"
   ]
  },
  {
   "cell_type": "code",
   "execution_count": 21,
   "id": "5e26afca",
   "metadata": {},
   "outputs": [
    {
     "name": "stdout",
     "output_type": "stream",
     "text": [
      "The name of all Columns is : \n",
      " Index(['age', 'gender', 'occupation', 'zip_code'], dtype='object')\n"
     ]
    }
   ],
   "source": [
    "### QUESTION 5 - Print the name of all the columns.\n",
    "\n",
    "print('The name of all Columns is : \\n',df.columns)"
   ]
  },
  {
   "cell_type": "code",
   "execution_count": 23,
   "id": "2225f339",
   "metadata": {},
   "outputs": [
    {
     "name": "stdout",
     "output_type": "stream",
     "text": [
      " The Dataset index are : \n",
      " Int64Index([  1,   2,   3,   4,   5,   6,   7,   8,   9,  10,\n",
      "            ...\n",
      "            934, 935, 936, 937, 938, 939, 940, 941, 942, 943],\n",
      "           dtype='int64', name='user_id', length=943)\n"
     ]
    }
   ],
   "source": [
    "#### QUESTION 6 - How is the dataset indexed?\n",
    "\n",
    "print(' The Dataset index are : \\n',df.index)"
   ]
  },
  {
   "cell_type": "code",
   "execution_count": 27,
   "id": "34143b52",
   "metadata": {},
   "outputs": [
    {
     "name": "stdout",
     "output_type": "stream",
     "text": [
      "The Data Type of each column is : \n",
      " age            int64\n",
      "gender        object\n",
      "occupation    object\n",
      "zip_code      object\n",
      "dtype: object\n"
     ]
    }
   ],
   "source": [
    "#### QUESTION 7 - What is the data type of each column?\n",
    "\n",
    "print('The Data Type of each column is : \\n',df.dtypes)"
   ]
  },
  {
   "cell_type": "code",
   "execution_count": 29,
   "id": "c7c9c1f9",
   "metadata": {},
   "outputs": [
    {
     "name": "stdout",
     "output_type": "stream",
     "text": [
      "Print only Occupation column : \n",
      " user_id\n",
      "1         technician\n",
      "2              other\n",
      "3             writer\n",
      "4         technician\n",
      "5              other\n",
      "           ...      \n",
      "939          student\n",
      "940    administrator\n",
      "941          student\n",
      "942        librarian\n",
      "943          student\n",
      "Name: occupation, Length: 943, dtype: object\n"
     ]
    }
   ],
   "source": [
    "#### QUESTION 8 - Print only the occupation column\n",
    "\n",
    "print('Print only Occupation column : \\n',df['occupation'])"
   ]
  },
  {
   "cell_type": "code",
   "execution_count": 42,
   "id": "283853e8",
   "metadata": {},
   "outputs": [
    {
     "name": "stdout",
     "output_type": "stream",
     "text": [
      "Number of different Occupations are :  21\n"
     ]
    }
   ],
   "source": [
    "#### QUESTION 9 - How many different occupations are in this dataset?\n",
    "\n",
    "print('Number of different Occupations are : ',df['occupation'].value_counts().count())"
   ]
  },
  {
   "cell_type": "code",
   "execution_count": 80,
   "id": "a2b7daa6",
   "metadata": {},
   "outputs": [
    {
     "name": "stdout",
     "output_type": "stream",
     "text": [
      "Most frequent occupation is :\n",
      " student    196\n",
      "Name: occupation, dtype: int64\n"
     ]
    }
   ],
   "source": [
    "#### QUESTION 10 - What is the most frequent occupation?\n",
    "\n",
    "print('Most frequent occupation is :\\n',df['occupation'].value_counts().sort_values(ascending=False).head(1))"
   ]
  },
  {
   "cell_type": "code",
   "execution_count": 49,
   "id": "1474dcc6",
   "metadata": {},
   "outputs": [
    {
     "name": "stdout",
     "output_type": "stream",
     "text": [
      "              age\n",
      "count  943.000000\n",
      "mean    34.051962\n",
      "std     12.192740\n",
      "min      7.000000\n",
      "25%     25.000000\n",
      "50%     31.000000\n",
      "75%     43.000000\n",
      "max     73.000000\n"
     ]
    }
   ],
   "source": [
    "#### QUESTION 11 - Describe all the columns\n",
    "\n",
    "print(df.describe())"
   ]
  },
  {
   "cell_type": "code",
   "execution_count": 64,
   "id": "7edc9602",
   "metadata": {},
   "outputs": [
    {
     "data": {
      "text/plain": [
       "count         943\n",
       "unique         21\n",
       "top       student\n",
       "freq          196\n",
       "Name: occupation, dtype: object"
      ]
     },
     "execution_count": 64,
     "metadata": {},
     "output_type": "execute_result"
    }
   ],
   "source": [
    "#### QUESTION 12 - Summarize only the occupation column\n",
    "\n",
    "df.occupation.describe()"
   ]
  },
  {
   "cell_type": "code",
   "execution_count": 79,
   "id": "add5d1c9",
   "metadata": {},
   "outputs": [
    {
     "name": "stdout",
     "output_type": "stream",
     "text": [
      "Mean age of User is :  34.05196182396607\n"
     ]
    }
   ],
   "source": [
    "#### QUESTION 13 - What is the mean age of users?\n",
    "\n",
    "print('Mean age of User is : ',df.age.mean())"
   ]
  },
  {
   "cell_type": "code",
   "execution_count": null,
   "id": "241783f7",
   "metadata": {},
   "outputs": [],
   "source": [
    "\n",
    "\n"
   ]
  },
  {
   "cell_type": "code",
   "execution_count": 82,
   "id": "c53fa36e",
   "metadata": {},
   "outputs": [
    {
     "name": "stdout",
     "output_type": "stream",
     "text": [
      "73    1\n",
      "7     1\n",
      "10    1\n",
      "11    1\n",
      "66    1\n",
      "Name: age, dtype: int64\n"
     ]
    }
   ],
   "source": [
    "#### QUESTION 14 - What is the age with least occurrence?\n",
    "\n",
    "print(df.age.value_counts().sort_values(ascending=True).head())"
   ]
  },
  {
   "cell_type": "code",
   "execution_count": null,
   "id": "7b5ee1d2",
   "metadata": {},
   "outputs": [],
   "source": []
  }
 ],
 "metadata": {
  "kernelspec": {
   "display_name": "Python 3 (ipykernel)",
   "language": "python",
   "name": "python3"
  },
  "language_info": {
   "codemirror_mode": {
    "name": "ipython",
    "version": 3
   },
   "file_extension": ".py",
   "mimetype": "text/x-python",
   "name": "python",
   "nbconvert_exporter": "python",
   "pygments_lexer": "ipython3",
   "version": "3.9.6"
  }
 },
 "nbformat": 4,
 "nbformat_minor": 5
}
